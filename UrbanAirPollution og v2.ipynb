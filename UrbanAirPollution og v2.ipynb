{
 "cells": [
  {
   "cell_type": "code",
   "execution_count": 45,
   "id": "701bc70d",
   "metadata": {},
   "outputs": [],
   "source": [
    "import pandas as pd\n",
    "import numpy as np\n",
    "from sklearn.metrics import mean_squared_error, r2_score\n",
    "from sklearn.model_selection import train_test_split\n",
    "from sklearn.preprocessing import StandardScaler\n",
    "from sklearn.feature_selection import SelectKBest, f_regression\n",
    "from sklearn.ensemble import RandomForestRegressor\n",
    "import pickle"
   ]
  },
  {
   "cell_type": "code",
   "execution_count": 21,
   "id": "54c888b7",
   "metadata": {},
   "outputs": [],
   "source": [
    "train_df = pd.read_csv('./Train.csv')\n",
    "test_df = pd.read_csv('./Test.csv')"
   ]
  },
  {
   "cell_type": "code",
   "execution_count": 22,
   "id": "89379433",
   "metadata": {},
   "outputs": [],
   "source": [
    "if 'Place_ID' in train_df.columns and 'Date' in train_df.columns:\n",
    "    train_df = train_df.drop(['Place_ID', 'Date'], axis=1)"
   ]
  },
  {
   "cell_type": "code",
   "execution_count": 23,
   "id": "4823a712",
   "metadata": {},
   "outputs": [],
   "source": [
    "if 'Place_ID X Date' in train_df.columns:\n",
    "    train_df[['Place_ID', 'Date']] = train_df['Place_ID X Date'].str.split(' X ', expand=True)\n",
    "    idx = train_df.columns.get_loc('Place_ID X Date')\n",
    "    train_df = train_df.drop('Place_ID X Date', axis=1)\n",
    "    train_df.insert(idx, 'Date', train_df.pop('Date'))\n",
    "    train_df.insert(idx, 'Place_ID', train_df.pop('Place_ID'))\n",
    "    train_df['Date'] = pd.to_datetime(train_df['Date'])\n",
    "    train_df['Date'] = train_df['Date'].dt.strftime('%m/%d/%y')"
   ]
  },
  {
   "cell_type": "code",
   "execution_count": 24,
   "id": "4b9c593d",
   "metadata": {},
   "outputs": [],
   "source": [
    "place_groups = train_df.groupby('Place_ID')\n",
    "numeric_cols = train_df.select_dtypes(include=np.number).columns\n",
    "train_df[numeric_cols] = place_groups[numeric_cols].transform(lambda x: x.fillna(x.median()))\n",
    "train_df = train_df.fillna(method='ffill')"
   ]
  },
  {
   "cell_type": "code",
   "execution_count": 25,
   "id": "5ebbb189",
   "metadata": {},
   "outputs": [],
   "source": [
    "X_train = train_df.drop(['Place_ID', 'Date', 'target', 'target_min', 'target_max', 'target_variance', 'target_count'], axis=1)\n",
    "y_train = train_df['target']"
   ]
  },
  {
   "cell_type": "code",
   "execution_count": 26,
   "id": "4ec84b4e",
   "metadata": {},
   "outputs": [],
   "source": [
    "selector = SelectKBest(f_regression, k='all')\n",
    "X_train_selected = selector.fit_transform(X_train, y_train)\n",
    "mask = selector.get_support()\n",
    "X_train_selected_names = X_train.columns[mask]"
   ]
  },
  {
   "cell_type": "code",
   "execution_count": 27,
   "id": "ee4f4a4a",
   "metadata": {},
   "outputs": [],
   "source": [
    "X_trains, X_tests, y_trains, y_tests = train_test_split(X_train_selected, y_train, test_size=0.2, random_state=42)"
   ]
  },
  {
   "cell_type": "code",
   "execution_count": 28,
   "id": "389517f3",
   "metadata": {},
   "outputs": [],
   "source": [
    "scaler = StandardScaler()\n",
    "X_train_scaled = scaler.fit_transform(X_trains)"
   ]
  },
  {
   "cell_type": "code",
   "execution_count": 30,
   "id": "294612e5",
   "metadata": {},
   "outputs": [],
   "source": [
    "place_groups = test_df.groupby('Place_ID')\n",
    "numeric_cols = test_df.select_dtypes(include=np.number).columns\n",
    "test_df[numeric_cols] = place_groups[numeric_cols].transform(lambda x: x.fillna(x.median()))\n",
    "test_df = test_df.fillna(method='ffill')"
   ]
  },
  {
   "cell_type": "code",
   "execution_count": 31,
   "id": "d6dd70ff",
   "metadata": {},
   "outputs": [],
   "source": [
    "X_test = test_df.drop(['Place_ID X Date', 'Place_ID', 'Date'], axis=1)\n"
   ]
  },
  {
   "cell_type": "code",
   "execution_count": 32,
   "id": "18cfec5a",
   "metadata": {},
   "outputs": [
    {
     "name": "stderr",
     "output_type": "stream",
     "text": [
      "c:\\Users\\user\\AppData\\Local\\Programs\\Python\\Python311\\Lib\\site-packages\\sklearn\\base.py:439: UserWarning: X does not have valid feature names, but SelectKBest was fitted with feature names\n",
      "  warnings.warn(\n"
     ]
    }
   ],
   "source": [
    "X_test_selected = selector.transform(X_tests)\n",
    "X_test_scaled = scaler.transform(X_test_selected)"
   ]
  },
  {
   "cell_type": "code",
   "execution_count": 33,
   "id": "1a2c5f68",
   "metadata": {},
   "outputs": [],
   "source": [
    "rf = RandomForestRegressor(n_estimators=500, random_state=123)\n",
    "rf.fit(X_train_scaled, y_trains)\n",
    "y_pred = rf.predict(X_test_scaled)"
   ]
  },
  {
   "cell_type": "code",
   "execution_count": 46,
   "id": "13c83f77",
   "metadata": {},
   "outputs": [],
   "source": [
    "# with open('rf_model.pkl', 'wb') as file:\n",
    "#     pickle.dump(rf, file)"
   ]
  },
  {
   "cell_type": "code",
   "execution_count": 42,
   "id": "8f225b8e",
   "metadata": {},
   "outputs": [
    {
     "name": "stdout",
     "output_type": "stream",
     "text": [
      "Mean Squared Error: 770.2366956261453\n",
      "Root Mean Squared Error: 27.75313848245177\n",
      "R^2 Score: 0.6499088413635425\n"
     ]
    }
   ],
   "source": [
    "mse = mean_squared_error(y_tests, y_pred)\n",
    "rmse = np.sqrt(mse)\n",
    "r2 = r2_score(y_tests, y_pred)\n",
    "print(\"Mean Squared Error:\", mse)\n",
    "print(\"Root Mean Squared Error:\", rmse)\n",
    "print(\"R^2 Score:\", r2)"
   ]
  },
  {
   "cell_type": "code",
   "execution_count": 39,
   "id": "31ccfb9d",
   "metadata": {},
   "outputs": [],
   "source": [
    "X_valid = selector.transform(X_test)\n",
    "X_valid_scaled = scaler.transform(X_valid)"
   ]
  },
  {
   "cell_type": "code",
   "execution_count": 40,
   "id": "efff3984",
   "metadata": {},
   "outputs": [],
   "source": [
    "test_pred = rf.predict(X_valid_scaled)"
   ]
  },
  {
   "cell_type": "code",
   "execution_count": 41,
   "id": "5b510999",
   "metadata": {},
   "outputs": [],
   "source": [
    "output_df = pd.DataFrame({\n",
    "    'Place_ID X Date': test_df['Place_ID X Date'],\n",
    "    'target': test_pred\n",
    "})\n",
    "output_df.to_csv('predictions.csv', index=False)"
   ]
  },
  {
   "cell_type": "code",
   "execution_count": null,
   "id": "bf7f3aa5",
   "metadata": {},
   "outputs": [],
   "source": []
  }
 ],
 "metadata": {
  "kernelspec": {
   "display_name": "Python 3",
   "language": "python",
   "name": "python3"
  },
  "language_info": {
   "codemirror_mode": {
    "name": "ipython",
    "version": 3
   },
   "file_extension": ".py",
   "mimetype": "text/x-python",
   "name": "python",
   "nbconvert_exporter": "python",
   "pygments_lexer": "ipython3",
   "version": "3.9.16"
  }
 },
 "nbformat": 4,
 "nbformat_minor": 5
}
