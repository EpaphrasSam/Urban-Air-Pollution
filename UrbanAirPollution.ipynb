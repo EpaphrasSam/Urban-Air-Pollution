{
 "cells": [
  {
   "cell_type": "code",
   "execution_count": 246,
   "id": "701bc70d",
   "metadata": {},
   "outputs": [],
   "source": [
    "import pandas as pd\n",
    "import numpy as np\n",
    "from sklearn.metrics import mean_squared_error, r2_score\n",
    "from sklearn.model_selection import train_test_split, KFold\n",
    "from sklearn.preprocessing import StandardScaler\n",
    "from sklearn.feature_selection import SelectKBest, f_regression\n",
    "import lightgbm as lgb\n",
    "import pickle"
   ]
  },
  {
   "cell_type": "code",
   "execution_count": 247,
   "id": "54c888b7",
   "metadata": {},
   "outputs": [],
   "source": [
    "train_df = pd.read_csv('./Train.csv')\n",
    "test_df = pd.read_csv('./Test.csv')"
   ]
  },
  {
   "cell_type": "code",
   "execution_count": 248,
   "id": "89379433",
   "metadata": {},
   "outputs": [],
   "source": [
    "if 'Place_ID' in train_df.columns and 'Date' in train_df.columns:\n",
    "    train_df = train_df.drop(['Place_ID', 'Date'], axis=1)"
   ]
  },
  {
   "cell_type": "code",
   "execution_count": 249,
   "id": "4823a712",
   "metadata": {},
   "outputs": [],
   "source": [
    "if 'Place_ID X Date' in train_df.columns:\n",
    "    train_df[['Place_ID', 'Date']] = train_df['Place_ID X Date'].str.split(' X ', expand=True)\n",
    "    idx = train_df.columns.get_loc('Place_ID X Date')\n",
    "    train_df = train_df.drop('Place_ID X Date', axis=1)\n",
    "    train_df.insert(idx, 'Date', train_df.pop('Date'))\n",
    "    train_df.insert(idx, 'Place_ID', train_df.pop('Place_ID'))\n",
    "    train_df['Date'] = pd.to_datetime(train_df['Date'])\n",
    "    train_df['Date'] = train_df['Date'].dt.strftime('%m/%d/%y')"
   ]
  },
  {
   "cell_type": "code",
   "execution_count": 250,
   "id": "4b9c593d",
   "metadata": {},
   "outputs": [],
   "source": [
    "place_groups = train_df.groupby('Place_ID')\n",
    "numeric_cols = train_df.select_dtypes(include=np.number).columns\n",
    "train_df[numeric_cols] = place_groups[numeric_cols].transform(lambda x: x.fillna(x.median()))\n",
    "train_df = train_df.fillna(method='ffill')"
   ]
  },
  {
   "cell_type": "code",
   "execution_count": 251,
   "id": "5ebbb189",
   "metadata": {},
   "outputs": [],
   "source": [
    "X_train = train_df.drop(['Place_ID', 'Date', 'target', 'target_min', 'target_max', 'target_variance', 'target_count'], axis=1)\n",
    "y_train = train_df['target']"
   ]
  },
  {
   "cell_type": "code",
   "execution_count": 252,
   "id": "4ec84b4e",
   "metadata": {},
   "outputs": [],
   "source": [
    "selector = SelectKBest(f_regression, k='all')\n",
    "X_train_selected = selector.fit_transform(X_train, y_train)\n",
    "mask = selector.get_support()\n",
    "X_train_selected_names = X_train.columns[mask]"
   ]
  },
  {
   "cell_type": "code",
   "execution_count": 253,
   "id": "ee4f4a4a",
   "metadata": {},
   "outputs": [],
   "source": [
    "X_trains, X_tests, y_trains, y_tests = train_test_split(X_train_selected, y_train, test_size=0.2, random_state=42)"
   ]
  },
  {
   "cell_type": "code",
   "execution_count": 254,
   "id": "248bcc60",
   "metadata": {},
   "outputs": [],
   "source": [
    "lgb_trains = lgb.Dataset(X_trains, y_trains)\n",
    "lgb_evals = lgb.Dataset(X_tests, y_tests, reference=lgb_trains)\n"
   ]
  },
  {
   "cell_type": "code",
   "execution_count": 255,
   "id": "1e102f33",
   "metadata": {},
   "outputs": [],
   "source": [
    "params = {\n",
    "    'boosting_type': 'dart',\n",
    "    'objective': 'regression',\n",
    "    'metric': 'rmse',\n",
    "    'learning_rate': 0.01,\n",
    "    'num_iterations': 50000,\n",
    "    'num_leaves': 50,\n",
    "    'max_depth': 7,\n",
    "    'min_data_in_leaf': 5,\n",
    "    'feature_fraction': 0.7,\n",
    "    'bagging_fraction': 0.8,\n",
    "    'bagging_freq': 5,\n",
    "    'drop_rate': 0.1,\n",
    "    'max_drop': 50,\n",
    "    'skip_drop': 0.5,\n",
    "    'lambda_l1': 1,\n",
    "    'lambda_l2': 1,\n",
    "    'verbose': -1,\n",
    "    'random_seed': 42\n",
    "}"
   ]
  },
  {
   "cell_type": "code",
   "execution_count": 256,
   "id": "dd2a83ed",
   "metadata": {},
   "outputs": [],
   "source": [
    "# params = {\n",
    "#     'objective': 'regression',\n",
    "#     'metric': 'rmse',\n",
    "#     'boosting_type': 'dart',\n",
    "#     'learning_rate': 0.1,\n",
    "#     'num_iterations': 30000,\n",
    "#     'num_leaves': 50,\n",
    "#     'max_depth': 7,\n",
    "#     'min_data_in_leaf': 5,\n",
    "#     'feature_fraction': 0.7,\n",
    "#     'bagging_fraction': 0.8,\n",
    "#     'bagging_freq': 5,\n",
    "#     'lambda_l1': 1,\n",
    "#     'lambda_l2': 1,\n",
    "#     'verbose': -1,\n",
    "#     'random_seed': 42,\n",
    "#     'device': 'gpu'\n",
    "# }"
   ]
  },
  {
   "cell_type": "code",
   "execution_count": 257,
   "id": "556a692e",
   "metadata": {},
   "outputs": [
    {
     "name": "stderr",
     "output_type": "stream",
     "text": [
      "c:\\Users\\user\\anaconda3\\lib\\site-packages\\lightgbm\\engine.py:177: UserWarning: Found `num_iterations` in params. Will use it instead of argument\n",
      "  _log_warning(f\"Found `{alias}` in params. Will use it instead of argument\")\n",
      "c:\\Users\\user\\anaconda3\\lib\\site-packages\\lightgbm\\engine.py:181: UserWarning: 'early_stopping_rounds' argument is deprecated and will be removed in a future release of LightGBM. Pass 'early_stopping()' callback via 'callbacks' argument instead.\n",
      "  _log_warning(\"'early_stopping_rounds' argument is deprecated and will be removed in a future release of LightGBM. \"\n",
      "c:\\Users\\user\\anaconda3\\lib\\site-packages\\lightgbm\\engine.py:239: UserWarning: 'verbose_eval' argument is deprecated and will be removed in a future release of LightGBM. Pass 'log_evaluation()' callback via 'callbacks' argument instead.\n",
      "  _log_warning(\"'verbose_eval' argument is deprecated and will be removed in a future release of LightGBM. \"\n",
      "c:\\Users\\user\\anaconda3\\lib\\site-packages\\lightgbm\\callback.py:223: UserWarning: Early stopping is not available in dart mode\n",
      "  _log_warning('Early stopping is not available in dart mode')\n"
     ]
    },
    {
     "name": "stdout",
     "output_type": "stream",
     "text": [
      "[500]\tvalid_0's rmse: 39.9067\n",
      "[1000]\tvalid_0's rmse: 32.0701\n",
      "[1500]\tvalid_0's rmse: 29.9645\n",
      "[2000]\tvalid_0's rmse: 28.5775\n",
      "[2500]\tvalid_0's rmse: 28.0645\n",
      "[3000]\tvalid_0's rmse: 27.4797\n"
     ]
    },
    {
     "ename": "KeyboardInterrupt",
     "evalue": "",
     "output_type": "error",
     "traceback": [
      "\u001b[1;31m---------------------------------------------------------------------------\u001b[0m",
      "\u001b[1;31mKeyboardInterrupt\u001b[0m                         Traceback (most recent call last)",
      "Cell \u001b[1;32mIn[257], line 1\u001b[0m\n\u001b[1;32m----> 1\u001b[0m model \u001b[39m=\u001b[39m lgb\u001b[39m.\u001b[39;49mtrain(params, train_set \u001b[39m=\u001b[39;49m lgb_trains, num_boost_round\u001b[39m=\u001b[39;49m\u001b[39m10000\u001b[39;49m,early_stopping_rounds\u001b[39m=\u001b[39;49m\u001b[39m500\u001b[39;49m,verbose_eval\u001b[39m=\u001b[39;49m\u001b[39m500\u001b[39;49m, valid_sets\u001b[39m=\u001b[39;49mlgb_evals)\n",
      "File \u001b[1;32mc:\\Users\\user\\anaconda3\\lib\\site-packages\\lightgbm\\engine.py:292\u001b[0m, in \u001b[0;36mtrain\u001b[1;34m(params, train_set, num_boost_round, valid_sets, valid_names, fobj, feval, init_model, feature_name, categorical_feature, early_stopping_rounds, evals_result, verbose_eval, learning_rates, keep_training_booster, callbacks)\u001b[0m\n\u001b[0;32m    284\u001b[0m \u001b[39mfor\u001b[39;00m cb \u001b[39min\u001b[39;00m callbacks_before_iter:\n\u001b[0;32m    285\u001b[0m     cb(callback\u001b[39m.\u001b[39mCallbackEnv(model\u001b[39m=\u001b[39mbooster,\n\u001b[0;32m    286\u001b[0m                             params\u001b[39m=\u001b[39mparams,\n\u001b[0;32m    287\u001b[0m                             iteration\u001b[39m=\u001b[39mi,\n\u001b[0;32m    288\u001b[0m                             begin_iteration\u001b[39m=\u001b[39minit_iteration,\n\u001b[0;32m    289\u001b[0m                             end_iteration\u001b[39m=\u001b[39minit_iteration \u001b[39m+\u001b[39m num_boost_round,\n\u001b[0;32m    290\u001b[0m                             evaluation_result_list\u001b[39m=\u001b[39m\u001b[39mNone\u001b[39;00m))\n\u001b[1;32m--> 292\u001b[0m booster\u001b[39m.\u001b[39;49mupdate(fobj\u001b[39m=\u001b[39;49mfobj)\n\u001b[0;32m    294\u001b[0m evaluation_result_list \u001b[39m=\u001b[39m []\n\u001b[0;32m    295\u001b[0m \u001b[39m# check evaluation result.\u001b[39;00m\n",
      "File \u001b[1;32mc:\\Users\\user\\anaconda3\\lib\\site-packages\\lightgbm\\basic.py:3021\u001b[0m, in \u001b[0;36mBooster.update\u001b[1;34m(self, train_set, fobj)\u001b[0m\n\u001b[0;32m   3019\u001b[0m \u001b[39mif\u001b[39;00m \u001b[39mself\u001b[39m\u001b[39m.\u001b[39m__set_objective_to_none:\n\u001b[0;32m   3020\u001b[0m     \u001b[39mraise\u001b[39;00m LightGBMError(\u001b[39m'\u001b[39m\u001b[39mCannot update due to null objective function.\u001b[39m\u001b[39m'\u001b[39m)\n\u001b[1;32m-> 3021\u001b[0m _safe_call(_LIB\u001b[39m.\u001b[39;49mLGBM_BoosterUpdateOneIter(\n\u001b[0;32m   3022\u001b[0m     \u001b[39mself\u001b[39;49m\u001b[39m.\u001b[39;49mhandle,\n\u001b[0;32m   3023\u001b[0m     ctypes\u001b[39m.\u001b[39;49mbyref(is_finished)))\n\u001b[0;32m   3024\u001b[0m \u001b[39mself\u001b[39m\u001b[39m.\u001b[39m__is_predicted_cur_iter \u001b[39m=\u001b[39m [\u001b[39mFalse\u001b[39;00m \u001b[39mfor\u001b[39;00m _ \u001b[39min\u001b[39;00m \u001b[39mrange\u001b[39m(\u001b[39mself\u001b[39m\u001b[39m.\u001b[39m__num_dataset)]\n\u001b[0;32m   3025\u001b[0m \u001b[39mreturn\u001b[39;00m is_finished\u001b[39m.\u001b[39mvalue \u001b[39m==\u001b[39m \u001b[39m1\u001b[39m\n",
      "\u001b[1;31mKeyboardInterrupt\u001b[0m: "
     ]
    }
   ],
   "source": [
    "model = lgb.train(params, train_set = lgb_trains, num_boost_round=10000,early_stopping_rounds=500,verbose_eval=500, valid_sets=lgb_evals)\n"
   ]
  },
  {
   "cell_type": "code",
   "execution_count": null,
   "id": "e53ec9a0",
   "metadata": {},
   "outputs": [],
   "source": [
    "place_groups = test_df.groupby('Place_ID')\n",
    "numeric_cols = test_df.select_dtypes(include=np.number).columns\n",
    "test_df[numeric_cols] = place_groups[numeric_cols].transform(lambda x: x.fillna(x.median()))\n",
    "test_df = test_df.fillna(method='ffill')"
   ]
  },
  {
   "cell_type": "code",
   "execution_count": null,
   "id": "21116f56",
   "metadata": {},
   "outputs": [],
   "source": [
    "X_test = test_df.drop(['Place_ID X Date', 'Place_ID', 'Date'], axis=1)"
   ]
  },
  {
   "cell_type": "code",
   "execution_count": null,
   "id": "cf4a7c79",
   "metadata": {},
   "outputs": [],
   "source": [
    "test_pred = model.predict(X_test)"
   ]
  },
  {
   "cell_type": "code",
   "execution_count": null,
   "id": "22f81559",
   "metadata": {},
   "outputs": [],
   "source": [
    "output_df = pd.DataFrame({\n",
    "    'Place_ID X Date': test_df['Place_ID X Date'],\n",
    "    'target': test_pred\n",
    "})\n",
    "output_df.to_csv('predictions.csv', index=False)"
   ]
  },
  {
   "cell_type": "code",
   "execution_count": null,
   "id": "d8cd8fcf",
   "metadata": {},
   "outputs": [],
   "source": []
  }
 ],
 "metadata": {
  "kernelspec": {
   "display_name": "Python 3",
   "language": "python",
   "name": "python3"
  },
  "language_info": {
   "codemirror_mode": {
    "name": "ipython",
    "version": 3
   },
   "file_extension": ".py",
   "mimetype": "text/x-python",
   "name": "python",
   "nbconvert_exporter": "python",
   "pygments_lexer": "ipython3",
   "version": "3.9.16"
  }
 },
 "nbformat": 4,
 "nbformat_minor": 5
}
